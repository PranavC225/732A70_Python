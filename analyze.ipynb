{
 "cells": [
  {
   "cell_type": "markdown",
   "metadata": {},
   "source": [
    "- Loads a dataset\n",
    "- runs on penguin dataset and one more (read using using pandas)\n",
    "- fit best GMM on every numeric variable in dataset\n",
    "- plot pdf and cdf using matplotlib\n",
    "- simulate own set of numbers using same GMM\n",
    "- plot data from dataset and simulated data for each variable as histograms"
   ]
  },
  {
   "cell_type": "code",
   "execution_count": null,
   "metadata": {
    "vscode": {
     "languageId": "plaintext"
    }
   },
   "outputs": [],
   "source": []
  }
 ],
 "metadata": {
  "language_info": {
   "name": "python"
  }
 },
 "nbformat": 4,
 "nbformat_minor": 2
}
